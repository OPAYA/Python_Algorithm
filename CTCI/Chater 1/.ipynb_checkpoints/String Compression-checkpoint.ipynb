{
 "cells": [
  {
   "cell_type": "code",
   "execution_count": 1,
   "metadata": {},
   "outputs": [],
   "source": [
    "from collections import Counter"
   ]
  },
  {
   "cell_type": "code",
   "execution_count": 3,
   "metadata": {},
   "outputs": [],
   "source": [
    "string = 'aaabbbccddd'"
   ]
  },
  {
   "cell_type": "code",
   "execution_count": 22,
   "metadata": {},
   "outputs": [
    {
     "name": "stdout",
     "output_type": "stream",
     "text": [
      "[97, 97, 97, 98, 98, 98, 99, 99, 100, 100, 100]\n"
     ]
    }
   ],
   "source": [
    "char_check = [0 for _ in range(128)]\n",
    "val_check = []\n",
    "for char in string:\n",
    "    val_check.append(char + )\n",
    "    val = ord(char)\n",
    "    val_check.append(val)\n",
    "    char_check[val] += 1\n",
    "\n",
    "\n",
    "    "
   ]
  },
  {
   "cell_type": "code",
   "execution_count": 43,
   "metadata": {},
   "outputs": [],
   "source": [
    "string = 'aabbbcccc'"
   ]
  },
  {
   "cell_type": "code",
   "execution_count": 46,
   "metadata": {},
   "outputs": [
    {
     "name": "stdout",
     "output_type": "stream",
     "text": [
      "['a2', 'b2', 'c3']\n"
     ]
    }
   ],
   "source": [
    "val_check=[]\n",
    "count = 1\n",
    "for i, char in enumerate(string):\n",
    "\n",
    "    if i== 0:\n",
    "        b_val = char\n",
    "        \n",
    "    else:\n",
    "        if char == b_val:\n",
    "            count=count+1\n",
    "        \n",
    "        else:\n",
    "            check=b_val+str(count)\n",
    "            val_check.append(check)\n",
    "            b_val = char\n",
    "            count=0\n",
    "            \n",
    "check=b_val+str(count)\n",
    "val_check.append(check)\n",
    "print(val_check)"
   ]
  },
  {
   "cell_type": "code",
   "execution_count": 2,
   "metadata": {},
   "outputs": [
    {
     "data": {
      "text/plain": [
       "'a1'"
      ]
     },
     "execution_count": 2,
     "metadata": {},
     "output_type": "execute_result"
    }
   ],
   "source": []
  },
  {
   "cell_type": "code",
   "execution_count": null,
   "metadata": {},
   "outputs": [],
   "source": []
  }
 ],
 "metadata": {
  "kernelspec": {
   "display_name": "Python 3",
   "language": "python",
   "name": "python3"
  },
  "language_info": {
   "codemirror_mode": {
    "name": "ipython",
    "version": 3
   },
   "file_extension": ".py",
   "mimetype": "text/x-python",
   "name": "python",
   "nbconvert_exporter": "python",
   "pygments_lexer": "ipython3",
   "version": "3.7.1"
  }
 },
 "nbformat": 4,
 "nbformat_minor": 2
}
